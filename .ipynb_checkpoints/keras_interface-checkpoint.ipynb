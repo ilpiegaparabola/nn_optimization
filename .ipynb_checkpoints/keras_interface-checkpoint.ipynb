{
 "cells": [
  {
   "cell_type": "markdown",
   "metadata": {},
   "source": [
    "In this example I implement in Keras the simple Neural Network solved in the other\n",
    "scripts by using my Monte Carlo strategy. The idea is: Keras is able to build NN very easily.\n",
    "My Monte Carlo method needs to be tested on more realistic networks.\n",
    "Therefore: I find a way to implement my MC startegies directly\n",
    "on Keras."
   ]
  },
  {
   "cell_type": "code",
   "execution_count": 15,
   "metadata": {},
   "outputs": [],
   "source": [
    "import numpy as np\n",
    "import keras\n",
    "from keras.models import Sequential \n",
    "from keras.layers import Dense, Activation"
   ]
  },
  {
   "cell_type": "code",
   "execution_count": 16,
   "metadata": {},
   "outputs": [],
   "source": [
    "# Define the training set as in the example\n",
    "# Points to classify\n",
    "x = np.array([[0.1, 0.1], [0.3, 0.4], [0.1, 0.5], [0.6, 0.9], [0.4, 0.2],\n",
    "                [0.6, 0.3], [0.5, 0.6], [0.9, 0.2], [0.4, 0.4], [0.7, 0.6]])\n",
    "# Their labels\n",
    "y = np.array([[1,0], [1,0], [1,0], [1,0], [1,0], [0,1], [0,1], [0,1], [0,1],\n",
    "                    [0,1]])"
   ]
  },
  {
   "cell_type": "code",
   "execution_count": 17,
   "metadata": {},
   "outputs": [],
   "source": [
    "## Define my Keras neural network\n",
    "model = Sequential()\n",
    "model.add(Dense(2, input_dim = 2, activation='sigmoid'))\n",
    "model.add(Dense(3, activation = 'sigmoid'))\n",
    "model.add(Dense(2, activation = 'sigmoid'))"
   ]
  },
  {
   "cell_type": "markdown",
   "metadata": {},
   "source": [
    "We have now important global variables: x, y (the training data), and model, i.e.\n",
    "the Neural Network model offered by keras."
   ]
  },
  {
   "cell_type": "markdown",
   "metadata": {},
   "source": [
    "I want now a function such that, given an array of the right lenght,\n",
    "compute the mean squared error of the keras model.\n",
    "The right lenght is precisely the number of the parameters of the model, \n",
    "given by the function below:"
   ]
  },
  {
   "cell_type": "code",
   "execution_count": 61,
   "metadata": {},
   "outputs": [
    {
     "name": "stdout",
     "output_type": "stream",
     "text": [
      "Model: \"sequential_1\"\n",
      "_________________________________________________________________\n",
      "Layer (type)                 Output Shape              Param #   \n",
      "=================================================================\n",
      "dense_3 (Dense)              (None, 2)                 6         \n",
      "_________________________________________________________________\n",
      "dense_4 (Dense)              (None, 3)                 9         \n",
      "_________________________________________________________________\n",
      "dense_5 (Dense)              (None, 2)                 8         \n",
      "=================================================================\n",
      "Total params: 23\n",
      "Trainable params: 23\n",
      "Non-trainable params: 0\n",
      "_________________________________________________________________\n"
     ]
    }
   ],
   "source": [
    "model.summary()"
   ]
  },
  {
   "cell_type": "markdown",
   "metadata": {},
   "source": [
    "The following section is a collection of auxhiliary functions."
   ]
  },
  {
   "cell_type": "code",
   "execution_count": 62,
   "metadata": {},
   "outputs": [],
   "source": [
    "# Function to get the total element of an array which is linear or matrix\n",
    "def tot_elm(var):\n",
    "    try:\n",
    "        res = var.shape[0] * var.shape[1]\n",
    "    except:\n",
    "        res = var.shape[0]\n",
    "    return res"
   ]
  },
  {
   "cell_type": "code",
   "execution_count": 63,
   "metadata": {},
   "outputs": [],
   "source": [
    "# Given a generic numpy array of the right size, fit it into the\n",
    "# right format to be used as a parameter for the keras Neural Network\n",
    "def params_to_keras(p):\n",
    "    offset = 0\n",
    "    q = model.get_weights()\n",
    "    for i in range(len(q)):\n",
    "        take_n = tot_elm(q[i]) \n",
    "        q[i] = np.asanyarray(p[offset:offset+take_n]).reshape(q[i].shape)\n",
    "        offset += take_n\n",
    "    return q"
   ]
  },
  {
   "cell_type": "code",
   "execution_count": 64,
   "metadata": {},
   "outputs": [],
   "source": [
    "# Given a generic 23-dim numpy array, compute the model cost\n",
    "# function according to the keras model\n",
    "def keras_cost(p):\n",
    "    p = params_to_keras(p)\n",
    "    model.set_weights(p)\n",
    "    y_hat = model.predict(x)\n",
    "    mse = keras.losses.MeanSquaredError()\n",
    "    return mse(y, y_hat).numpy() * 100 "
   ]
  },
  {
   "cell_type": "markdown",
   "metadata": {},
   "source": [
    "REMARK: keras_cost is now PRECISELY the function that we want to minimize\n",
    "by using the Monte Carlo approach!!!! Very well."
   ]
  },
  {
   "cell_type": "code",
   "execution_count": 65,
   "metadata": {},
   "outputs": [],
   "source": [
    "# Just playing a bit with random coefficients\n",
    "myparams = np.random.uniform(0, 1, 23)\n",
    "for_keras = params_to_keras(myparams)"
   ]
  },
  {
   "cell_type": "code",
   "execution_count": 66,
   "metadata": {},
   "outputs": [
    {
     "name": "stdout",
     "output_type": "stream",
     "text": [
      "[0.36567339 0.49332022 0.63958298 0.54891628 0.95097856 0.08137408\n",
      " 0.06314725 0.28708884 0.25873719 0.39525301 0.85979856 0.93944953\n",
      " 0.04905192 0.83884441 0.1718297  0.79993486 0.62376031 0.40022533\n",
      " 0.05828978 0.97013973 0.07194908 0.01944271 0.31980972]\n"
     ]
    }
   ],
   "source": [
    "print(myparams)"
   ]
  },
  {
   "cell_type": "code",
   "execution_count": 67,
   "metadata": {},
   "outputs": [
    {
     "name": "stdout",
     "output_type": "stream",
     "text": [
      "[array([[0.36567339, 0.49332022],\n",
      "       [0.63958298, 0.54891628]]), array([0.95097856, 0.08137408]), array([[0.06314725, 0.28708884, 0.25873719],\n",
      "       [0.39525301, 0.85979856, 0.93944953]]), array([0.04905192, 0.83884441, 0.1718297 ]), array([[0.79993486, 0.62376031],\n",
      "       [0.40022533, 0.05828978],\n",
      "       [0.97013973, 0.07194908]]), array([0.01944271, 0.31980972])]\n"
     ]
    }
   ],
   "source": [
    "print(for_keras)"
   ]
  },
  {
   "cell_type": "code",
   "execution_count": 68,
   "metadata": {},
   "outputs": [
    {
     "data": {
      "text/plain": [
       "31.943267583847046"
      ]
     },
     "execution_count": 68,
     "metadata": {},
     "output_type": "execute_result"
    }
   ],
   "source": [
    "keras_cost(myparams)"
   ]
  },
  {
   "cell_type": "markdown",
   "metadata": {},
   "source": [
    "In other words: INSTEAD of using my \"old\" nn_potential, with all the Neural Network\n",
    "functions written by hands, I can use now the Keras interface directly.\n",
    "That's very, very nice since provides huge flexibility.\n",
    "Despite that, please note:"
   ]
  },
  {
   "cell_type": "markdown",
   "metadata": {},
   "source": [
    "We do not have no more the explicit gradient descent (so...good that I worked with RW\n",
    "Monte Carlo only!) and that here there is no plot function as in my general library.\n",
    "No problems at all: all functions that will be added. "
   ]
  },
  {
   "cell_type": "markdown",
   "metadata": {},
   "source": [
    "FINAL GOAL: to have something like:"
   ]
  },
  {
   "cell_type": "code",
   "execution_count": 70,
   "metadata": {},
   "outputs": [],
   "source": [
    "#model.compile(optimizer = 'my_monte_carlo_approach') # :-)"
   ]
  }
 ],
 "metadata": {
  "kernelspec": {
   "display_name": "Python 3",
   "language": "python",
   "name": "python3"
  },
  "language_info": {
   "codemirror_mode": {
    "name": "ipython",
    "version": 3
   },
   "file_extension": ".py",
   "mimetype": "text/x-python",
   "name": "python",
   "nbconvert_exporter": "python",
   "pygments_lexer": "ipython3",
   "version": "3.6.9"
  }
 },
 "nbformat": 4,
 "nbformat_minor": 2
}
